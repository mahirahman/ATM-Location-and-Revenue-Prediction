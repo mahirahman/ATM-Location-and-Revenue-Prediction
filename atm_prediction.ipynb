{
 "cells": [
  {
   "attachments": {},
   "cell_type": "markdown",
   "id": "37f52bd2",
   "metadata": {},
   "source": [
    "# Prediction of ATM Dataset using Machine Learning Algorithms\n",
    "\n",
    "The objective of this project is to analyze the ATM dataset and predict the monthly withdrawal and rating of an ATM based on the features in the dataset. The dataset is available in the file train.tsv. The dataset contains 16 features. The features are described below.\n",
    "\n",
    "## Dataset\n",
    "\n",
    "- Number_of_Shops_Around_ATM\n",
    "- ATM_Zone\n",
    "- No_of_Other_ATMs_in_1_KM_radius\n",
    "- Estimated_Number_of_Houses_in_1_KM_Radius\n",
    "- ATM_Placement\n",
    "- ATM_TYPE\n",
    "- ATM_Location_TYPE\n",
    "- ATM_looks\n",
    "- ATM_Attached_to\n",
    "- Average_Wait_Time\n",
    "- Day_Type\n",
    "- rating\n",
    "- revenue"
   ]
  },
  {
   "cell_type": "code",
   "execution_count": 3,
   "id": "40fb4586",
   "metadata": {},
   "outputs": [],
   "source": [
    "import pandas as pd\n",
    "import numpy as np\n",
    "from sklearn.preprocessing import LabelEncoder\n",
    "from sklearn.ensemble import RandomForestRegressor\n",
    "from sklearn.metrics import mean_squared_error, mean_absolute_error, r2_score\n",
    "from sklearn.utils import shuffle\n",
    "from sklearn.model_selection import cross_val_score\n",
    "from sklearn.impute import SimpleImputer\n",
    "from scipy.stats import pearsonr"
   ]
  },
  {
   "attachments": {},
   "cell_type": "markdown",
   "id": "09d1f1ec",
   "metadata": {},
   "source": [
    "Predict the monthly withdrawal for a given ATM. We will use a Random Forest Regressor for this task and evaluate the model using the Pearson Correlation Coefficient, r2_score, MAE, MSE, RMSE and Cross Validation Score."
   ]
  },
  {
   "cell_type": "code",
   "execution_count": 4,
   "id": "a280a918",
   "metadata": {},
   "outputs": [],
   "source": [
    "# Load training and test data from tsv files\n",
    "\n",
    "train_df = pd.read_csv('train.tsv', sep='\\t')\n",
    "test_df = pd.read_csv('test.tsv', sep='\\t')\n",
    "train_df = shuffle(train_df)"
   ]
  },
  {
   "cell_type": "code",
   "execution_count": 5,
   "id": "756cf499",
   "metadata": {},
   "outputs": [],
   "source": [
    "# Categorical features to encode\n",
    "\n",
    "cat_cols = [\n",
    "    'ATM_Zone',\n",
    "    'ATM_Placement',\n",
    "    'ATM_TYPE',\n",
    "    'ATM_Location_TYPE',\n",
    "    'ATM_looks',\n",
    "    'ATM_Attached_to',\n",
    "    'Day_Type'\n",
    "]"
   ]
  },
  {
   "cell_type": "code",
   "execution_count": 6,
   "id": "64ade51f",
   "metadata": {},
   "outputs": [],
   "source": [
    "# Encode categorical features using LabelEncoder\n",
    "\n",
    "le = LabelEncoder()\n",
    "for col in cat_cols:\n",
    "    train_df[col] = le.fit_transform(train_df[col])\n",
    "    test_df[col] = le.transform(test_df[col])"
   ]
  },
  {
   "cell_type": "code",
   "execution_count": 7,
   "id": "922382e5",
   "metadata": {},
   "outputs": [],
   "source": [
    "# Split training and test datasets\n",
    "\n",
    "imputer = SimpleImputer(strategy='mean')\n",
    "X_train = imputer.fit_transform(train_df.drop(['revenue'], axis=1))\n",
    "y_train = train_df['revenue'].values\n",
    "X_test = imputer.transform(test_df.drop(['revenue'], axis=1))\n",
    "y_test = test_df['revenue'].values"
   ]
  },
  {
   "cell_type": "code",
   "execution_count": 8,
   "id": "f1cc06a6",
   "metadata": {},
   "outputs": [
    {
     "data": {
      "text/plain": [
       "RandomForestRegressor(random_state=25)"
      ]
     },
     "execution_count": 8,
     "metadata": {},
     "output_type": "execute_result"
    }
   ],
   "source": [
    "# Train Random Forest Regressor model\n",
    "\n",
    "rf = RandomForestRegressor(n_estimators=100, random_state=25)\n",
    "rf.fit(X_train, y_train)"
   ]
  },
  {
   "cell_type": "code",
   "execution_count": 9,
   "id": "6c17d449",
   "metadata": {},
   "outputs": [],
   "source": [
    "# Evaluate our model on test set\n",
    "\n",
    "y_pred = rf.predict(X_test)"
   ]
  },
  {
   "cell_type": "code",
   "execution_count": 10,
   "id": "13ad7b0f",
   "metadata": {},
   "outputs": [
    {
     "name": "stdout",
     "output_type": "stream",
     "text": [
      "Regression Statistics\n",
      "\n",
      "Pearson Correlation Coefficient:  0.9980186989844818\n",
      "r2_score:  0.9960411617552533\n",
      "MAE:  3095.674253350437\n",
      "MSE:  25014695.200349074\n",
      "RMSE:  5001.469304149439\n",
      "Cross-validation scores:  [0.99538243 0.99592175 0.99615999 0.99612578 0.99594197 0.99607539\n",
      " 0.99586181 0.99574443 0.99629987 0.99582814]\n",
      "Average cross-validation score:  0.9959341559705773\n"
     ]
    }
   ],
   "source": [
    "# View various statistics\n",
    "\n",
    "print(\"Regression Statistics\\n\")\n",
    "print(\"Pearson Correlation Coefficient: \", pearsonr(y_test, y_pred)[0])\n",
    "print(\"r2_score: \", r2_score(y_test, y_pred))\n",
    "print(\"MAE: \", mean_absolute_error(y_test, y_pred))\n",
    "print(\"MSE: \", mean_squared_error(y_test, y_pred))\n",
    "print(\"RMSE: \", np.sqrt(mean_squared_error(y_test, y_pred)))\n",
    "scores = cross_val_score(rf, X_train, y_train, cv=10, scoring='r2')\n",
    "print(\"Cross-validation scores: \", scores)\n",
    "print(\"Average cross-validation score: \", scores.mean())"
   ]
  },
  {
   "attachments": {},
   "cell_type": "markdown",
   "id": "38a52abd",
   "metadata": {},
   "source": [
    "Pearson Correlation Coefficient: This statistic measures the strength and direction\n",
    "of the linear relationship between two variables. In this case, it is 0.9980106084390973\n",
    "which indicates a strong positive correlation between the variables.\n",
    "\n",
    "r2_score: This is a measure of how well the model fits the data. It ranges from 0 to 1,\n",
    "with a score of 1 indicating a perfect fit. In this case, the score is 0.9960250291366735\n",
    "which suggests that the model fits the data very well.\n",
    "\n",
    "MAE: Mean Absolute Error is a measure of the average difference between the predicted values\n",
    "and the actual values. In this case, the MAE is 3093.2470765742655, which means that on\n",
    "average, the predicted values are about 3093 units away from the actual values.\n",
    "\n",
    "MSE: Mean Squared Error is another measure of the average difference between the predicted\n",
    "values and the actual values, but it gives more weight to large errors. In this case, the\n",
    "MSE is 25116632.31209975.\n",
    "\n",
    "RMSE: Root Mean Squared Error is the square root of MSE and is another measure of the average\n",
    "difference between the predicted values and the actual values. In this case, the RMSE is\n",
    "5011.649659752739.\n",
    "\n",
    "Cross-validation scores: This is a list of scores obtained through cross-validation, which\n",
    "is a technique used to evaluate the performance of the model. In this case, the cross-validation\n",
    "scores range from 0.99570387 to 0.99635264.\n",
    "\n",
    "Average cross-validation score: This is the average of the cross-validation scores, which gives\n",
    "us an overall idea of how well the model is performing. In this case, the average cross-validation\n",
    "score is 0.9959295742226046, which suggests that the model is performing very well."
   ]
  },
  {
   "attachments": {},
   "cell_type": "markdown",
   "id": "ef84f8de",
   "metadata": {},
   "source": [
    "Predict the customer rating of a given ATM. We will use a Decision Tree Classifier\n",
    "for this task and evaluate the model using confusion matrix, accuracy, precision, recall and F1 score."
   ]
  },
  {
   "cell_type": "code",
   "execution_count": 11,
   "id": "43992d07",
   "metadata": {},
   "outputs": [],
   "source": [
    "from sklearn.tree import DecisionTreeClassifier\n",
    "from sklearn.metrics import confusion_matrix, precision_score, accuracy_score, recall_score, f1_score"
   ]
  },
  {
   "cell_type": "code",
   "execution_count": 12,
   "id": "8c829c45",
   "metadata": {},
   "outputs": [],
   "source": [
    "# Split training and test datasets\n",
    "\n",
    "X_train = imputer.fit_transform(train_df.drop(['rating'], axis=1))\n",
    "y_train = train_df['rating'].values\n",
    "X_test = imputer.transform(test_df.drop(['rating'], axis=1))\n",
    "y_test = test_df['rating'].values"
   ]
  },
  {
   "cell_type": "code",
   "execution_count": 13,
   "id": "14411115",
   "metadata": {},
   "outputs": [
    {
     "data": {
      "text/plain": [
       "DecisionTreeClassifier()"
      ]
     },
     "execution_count": 13,
     "metadata": {},
     "output_type": "execute_result"
    }
   ],
   "source": [
    "# Train a Decision Tree Classifier\n",
    "\n",
    "dtc = DecisionTreeClassifier()\n",
    "dtc.fit(X_train, y_train)"
   ]
  },
  {
   "cell_type": "code",
   "execution_count": 14,
   "id": "5423e27b",
   "metadata": {},
   "outputs": [],
   "source": [
    "# Evaluate our model on test set\n",
    "\n",
    "predictions = dtc.predict(X_test)"
   ]
  },
  {
   "cell_type": "code",
   "execution_count": 15,
   "id": "8d4e9913",
   "metadata": {},
   "outputs": [
    {
     "name": "stdout",
     "output_type": "stream",
     "text": [
      "Classification Statistics\n",
      "\n",
      "Confusion Matrix:\n",
      " [[  75    0    0    0]\n",
      " [   0 1432    0    0]\n",
      " [   0    1 1134    0]\n",
      " [   0    0    0  194]]\n",
      "Precision:  [1.         0.99930216 1.         1.        ]\n",
      "Recall:  [1.         1.         0.99911894 1.        ]\n",
      "Accuracy:  0.9996473906911142\n",
      "F-score:  [1.         0.99965096 0.99955928 1.        ]\n"
     ]
    }
   ],
   "source": [
    "# View various statistics\n",
    "\n",
    "print(\"Classification Statistics\\n\")\n",
    "print(\"Confusion Matrix:\\n\", confusion_matrix(y_test, predictions))\n",
    "print(\"Precision: \", precision_score(y_test, predictions, average=None))\n",
    "print(\"Recall: \", recall_score(y_test, predictions, average=None))\n",
    "print(\"Accuracy: \", accuracy_score(y_test, predictions))\n",
    "print(\"F-score: \", f1_score(y_test, predictions, average=None))"
   ]
  },
  {
   "attachments": {},
   "cell_type": "markdown",
   "id": "1ab4de38",
   "metadata": {},
   "source": [
    "The classification statistics show the performance of a classification model. The confusion matrix reveals the number of true positive, true negative, false positive, and false negative predictions made by the model. The precision score represents the proportion of true positive predictions compared to the total predicted positive values. The recall score represents the proportion of true positive predictions compared to the total actual positive values. The accuracy score represents the overall proportion of correct predictions made by the model. The F-score is the harmonic mean of precision and recall and provides an overall measure of the model's performance. Based on these statistics, we can conclude that the classification model has a very high level of accuracy and precision, and is able to correctly identify the majority of positive cases with a high degree of confidence."
   ]
  },
  {
   "cell_type": "code",
   "execution_count": 16,
   "id": "ce40af41",
   "metadata": {},
   "outputs": [
    {
     "name": "stdout",
     "output_type": "stream",
     "text": [
      "The watermark extension is already loaded. To reload it, use:\n",
      "  %reload_ext watermark\n",
      "Python implementation: CPython\n",
      "Python version       : 3.7.9\n",
      "IPython version      : 7.26.0\n",
      "\n",
      "pandas : 1.3.5\n",
      "numpy  : 1.21.5\n",
      "sklearn: 1.0.2\n",
      "scipy  : 1.7.3\n",
      "\n",
      "Compiler    : MSC v.1900 64 bit (AMD64)\n",
      "OS          : Windows\n",
      "Release     : 10\n",
      "Machine     : AMD64\n",
      "Processor   : Intel64 Family 6 Model 158 Stepping 13, GenuineIntel\n",
      "CPU cores   : 6\n",
      "Architecture: 64bit\n",
      "\n",
      "Last updated: Fri May 12 2023 22:29:40AUS Eastern Standard Time\n",
      "\n"
     ]
    }
   ],
   "source": [
    "%load_ext watermark\n",
    "%watermark -v -m -p pandas,numpy,sklearn,scipy\n",
    "%watermark -u -n -t -z"
   ]
  }
 ],
 "metadata": {
  "kernelspec": {
   "display_name": "Python 3 (ipykernel)",
   "language": "python",
   "name": "python3"
  },
  "language_info": {
   "codemirror_mode": {
    "name": "ipython",
    "version": 3
   },
   "file_extension": ".py",
   "mimetype": "text/x-python",
   "name": "python",
   "nbconvert_exporter": "python",
   "pygments_lexer": "ipython3",
   "version": "3.7.9"
  }
 },
 "nbformat": 4,
 "nbformat_minor": 5
}
